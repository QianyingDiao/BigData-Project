{
 "cells": [
  {
   "cell_type": "markdown",
   "metadata": {},
   "source": [
    "# Feature Selection and Engineering"
   ]
  },
  {
   "cell_type": "markdown",
   "metadata": {},
   "source": [
    "## Start Spark Session"
   ]
  },
  {
   "cell_type": "code",
   "execution_count": 1,
   "metadata": {},
   "outputs": [],
   "source": [
    "import findspark\n",
    "findspark.init()"
   ]
  },
  {
   "cell_type": "code",
   "execution_count": 2,
   "metadata": {},
   "outputs": [],
   "source": [
    "from pyspark.sql import SparkSession\n",
    "spark = SparkSession.builder.appName(\"Bosch Project\").getOrCreate()"
   ]
  },
  {
   "cell_type": "code",
   "execution_count": 3,
   "metadata": {},
   "outputs": [
    {
     "data": {
      "text/html": [
       "\n",
       "            <div>\n",
       "                <p><b>SparkSession - in-memory</b></p>\n",
       "                \n",
       "        <div>\n",
       "            <p><b>SparkContext</b></p>\n",
       "\n",
       "            <p><a href=\"http://ip-172-31-21-112.ec2.internal:4040\">Spark UI</a></p>\n",
       "\n",
       "            <dl>\n",
       "              <dt>Version</dt>\n",
       "                <dd><code>v2.4.2</code></dd>\n",
       "              <dt>Master</dt>\n",
       "                <dd><code>yarn</code></dd>\n",
       "              <dt>AppName</dt>\n",
       "                <dd><code>Bosch Project</code></dd>\n",
       "            </dl>\n",
       "        </div>\n",
       "        \n",
       "            </div>\n",
       "        "
      ],
      "text/plain": [
       "<pyspark.sql.session.SparkSession at 0x7f50c82f3588>"
      ]
     },
     "execution_count": 3,
     "metadata": {},
     "output_type": "execute_result"
    }
   ],
   "source": [
    "spark"
   ]
  },
  {
   "cell_type": "code",
   "execution_count": 7,
   "metadata": {},
   "outputs": [],
   "source": [
    "import time\n",
    "import pandas as pd\n",
    "import numpy as np\n",
    "import xgboost as xgb\n",
    "from xgboost import XGBClassifier\n",
    "from sklearn.metrics import matthews_corrcoef, roc_auc_score\n",
    "from sklearn.model_selection import cross_val_score, StratifiedKFold, KFold\n",
    "import matplotlib.pyplot as plt\n",
    "import seaborn as sns\n",
    "%matplotlib inline"
   ]
  },
  {
   "cell_type": "markdown",
   "metadata": {},
   "source": [
    "Through previous EDA step, we notice that:\n",
    "* For ***numerical*** features, the number of features is 970.\n",
    "* For ***categorical*** features, the number of features is 2141.\n",
    "* For ***date*** features, the number of features is 1157.\n",
    "* A lot of features in date dataset are duplicate. Unique columns are: \n",
    "`['L3_S37_D3949', 'L3_S30_D3541', 'L3_S29_D3428', 'L3_S34_D3877', 'L3_S33_D3870', 'L0_S0_D3', 'L0_S1_D30', 'L0_S8_D145', 'L3_S36_D3919', 'L3_S35_D3910', 'L0_S5_D115', 'L0_S3_D70', 'L0_S6_D120', 'L0_S7_D143', 'L0_S2_D54', 'L0_S4_D106', 'L0_S12_D333', 'L0_S20_D465', 'L0_S13_D355', 'L0_S10_D266', 'L0_S11_D284', 'L0_S9_D192', 'L2_S26_D3084', 'L1_S24_D1828', 'L0_S19_D457', 'L0_S17_D432', 'L0_S14_D380', 'L0_S15_D401', 'L0_S16_D428', 'L2_S27_D3156', 'L0_S18_D447', 'L0_S21_D469', 'L0_S23_D629', 'L0_S22_D608', 'L3_S41_D4021', 'L3_S40_D3981', 'L3_S45_D4129', 'L3_S48_D4203', 'L3_S47_D4155', 'L3_S39_D3974', 'L3_S51_D4255', 'L1_S25_D1887', 'L3_S31_D3848', 'L3_S43_D4097', 'L3_S49_D4208', 'L3_S50_D4254', 'L3_S44_D4122', 'L3_S38_D3953', 'L3_S32_D3852', 'L2_S28_D3234', 'L3_S46_D4135', 'L3_S42_D4057']`\n",
    "* Average failure rate is **0.58%** which implies that our target is highly skewed."
   ]
  },
  {
   "cell_type": "markdown",
   "metadata": {},
   "source": [
    "# Method 1: Feature Engineering"
   ]
  },
  {
   "cell_type": "markdown",
   "metadata": {},
   "source": [
    "## Numerical Feature Engineering"
   ]
  },
  {
   "cell_type": "markdown",
   "metadata": {},
   "source": [
    "First, we are going to handle our numeric features. Considering that we have thousands of columns with various kinds of features, we need to find a way to aggregate valueable information hidden below these features."
   ]
  },
  {
   "cell_type": "code",
   "execution_count": 4,
   "metadata": {},
   "outputs": [
    {
     "data": {
      "text/plain": [
       "\"cat = spark.read  .option('header', 'true')  .option('inferSchema', 'true')  .format('csv')  .load('train_categorical.csv')\\n\\ndate = spark.read  .option('header', 'true')  .option('inferSchema', 'true')  .format('csv')  .load('train_date.csv')\""
      ]
     },
     "execution_count": 4,
     "metadata": {},
     "output_type": "execute_result"
    }
   ],
   "source": [
    "num = spark.read\\\n",
    "  .option('header', 'true')\\\n",
    "  .option('inferSchema', 'true')\\\n",
    "  .format('csv')\\\n",
    "  .load('s3://jiaruxu233/train_numeric.csv')"
   ]
  },
  {
   "cell_type": "markdown",
   "metadata": {},
   "source": [
    "For convenience,we are going to explore the first 10000 rows first."
   ]
  },
  {
   "cell_type": "code",
   "execution_count": 8,
   "metadata": {
    "scrolled": true
   },
   "outputs": [],
   "source": [
    "num_pd = pd.read_csv('s3://jiaruxu233/train_numeric.csv',nrows = 10000)"
   ]
  },
  {
   "cell_type": "code",
   "execution_count": 8,
   "metadata": {},
   "outputs": [],
   "source": [
    "features = num_pd.drop(['Response', 'Id'], axis=1).columns.values"
   ]
  },
  {
   "cell_type": "code",
   "execution_count": 10,
   "metadata": {},
   "outputs": [
    {
     "name": "stdout",
     "output_type": "stream",
     "text": [
      "Features in Station 32: ['L3_S32_F3850']\n"
     ]
    }
   ],
   "source": [
    "def organize(features):\n",
    "    line_features = {}\n",
    "    station_features = {}\n",
    "    lines = set([f.split('_')[0] for f in features])\n",
    "    stations = set([f.split('_')[1] for f in features])\n",
    "    \n",
    "    for l in lines:\n",
    "        line_features[l] = [f for f in features if l+'_' in f]\n",
    "        \n",
    "    for s in stations:\n",
    "        station_features[s] = [f for f in features if s+'_' in f]\n",
    "        \n",
    "            \n",
    "    return line_features, station_features\n",
    "\n",
    "line_features, station_features = organize(features)\n",
    "\n",
    "# Eg. Feature for station 32 will be feature 3850\n",
    "print(\"Features in Station 32: {}\".format( station_features['S32'] ))"
   ]
  },
  {
   "cell_type": "code",
   "execution_count": 11,
   "metadata": {},
   "outputs": [],
   "source": [
    "station_error = []\n",
    "for s in station_features:\n",
    "    cols = ['Id', 'Response']\n",
    "    cols.extend(station_features[s])\n",
    "    df = num_pd_t.dropna(subset=station_features[s], how='all')\n",
    "    error_rate = df[df.Response == 1].size / float(df[df.Response == 0].size)\n",
    "    station_error.append([df.shape[1]-2, df.shape[0], error_rate]) \n",
    "    \n",
    "station_data = pd.DataFrame(station_error, \n",
    "                         columns=['Features', 'Samples', 'Error_Rate'], \n",
    "                         index=station_features).sort_index()"
   ]
  },
  {
   "cell_type": "code",
   "execution_count": 12,
   "metadata": {},
   "outputs": [
    {
     "data": {
      "image/png": "[encoded data removed]",
      "text/plain": [
       "<Figure size 576x1440 with 1 Axes>"
      ]
     },
     "metadata": {
      "needs_background": "light"
     },
     "output_type": "display_data"
    }
   ],
   "source": [
    "plt.figure(figsize=(8, 20))\n",
    "sns.barplot(x='Error_Rate', y=station_data.index.values, data=station_data, color=\"blue\")\n",
    "plt.title('Error Rate between Production Stations')\n",
    "plt.xlabel('Station Error Rate')\n",
    "plt.show()"
   ]
  },
  {
   "cell_type": "markdown",
   "metadata": {},
   "source": [
    "From plot above, we notice that station 32 and 38 have distinctively high failure rate with station 24,26 and 49,6 following."
   ]
  },
  {
   "cell_type": "code",
   "execution_count": 13,
   "metadata": {},
   "outputs": [],
   "source": [
    "data = num_pd\n",
    "\n",
    "def make_features(df):\n",
    "    new_features = pd.DataFrame({})\n",
    "    for s in station_features.keys():\n",
    "        station_data = df[station_features[s]]\n",
    "        col = s+'_max'\n",
    "        new_features[col] = station_data.max(axis=1).fillna(-1.)\n",
    "        col = s+'_min'\n",
    "        new_features[col] = station_data.min(axis=1).fillna(-1.)\n",
    "    return new_features\n",
    "\n",
    "data = make_features(data)"
   ]
  },
  {
   "cell_type": "code",
   "execution_count": 14,
   "metadata": {},
   "outputs": [],
   "source": [
    "Id_ = pd.DataFrame(num_pd['Id'])"
   ]
  },
  {
   "cell_type": "code",
   "execution_count": 15,
   "metadata": {},
   "outputs": [],
   "source": [
    "new_df_numerical = pd.concat([Id_,data],axis=1)"
   ]
  },
  {
   "cell_type": "code",
   "execution_count": 16,
   "metadata": {},
   "outputs": [
    {
     "data": {
      "text/html": [
       "<div>\n",
       "<style scoped>\n",
       "    .dataframe tbody tr th:only-of-type {\n",
       "        vertical-align: middle;\n",
       "    }\n",
       "\n",
       "    .dataframe tbody tr th {\n",
       "        vertical-align: top;\n",
       "    }\n",
       "\n",
       "    .dataframe thead th {\n",
       "        text-align: right;\n",
       "    }\n",
       "</style>\n",
       "<table border=\"1\" class=\"dataframe\">\n",
       "  <thead>\n",
       "    <tr style=\"text-align: right;\">\n",
       "      <th></th>\n",
       "      <th>Id</th>\n",
       "      <th>S2_max</th>\n",
       "      <th>S2_min</th>\n",
       "      <th>S19_max</th>\n",
       "      <th>S19_min</th>\n",
       "      <th>S17_max</th>\n",
       "      <th>S17_min</th>\n",
       "      <th>S1_max</th>\n",
       "      <th>S1_min</th>\n",
       "      <th>S34_max</th>\n",
       "      <th>...</th>\n",
       "      <th>S20_max</th>\n",
       "      <th>S20_min</th>\n",
       "      <th>S31_max</th>\n",
       "      <th>S31_min</th>\n",
       "      <th>S36_max</th>\n",
       "      <th>S36_min</th>\n",
       "      <th>S51_max</th>\n",
       "      <th>S51_min</th>\n",
       "      <th>S9_max</th>\n",
       "      <th>S9_min</th>\n",
       "    </tr>\n",
       "  </thead>\n",
       "  <tbody>\n",
       "    <tr>\n",
       "      <th>0</th>\n",
       "      <td>4</td>\n",
       "      <td>0.010</td>\n",
       "      <td>-0.223</td>\n",
       "      <td>-1.0</td>\n",
       "      <td>-1.0</td>\n",
       "      <td>-1.0</td>\n",
       "      <td>-1.0</td>\n",
       "      <td>0.167</td>\n",
       "      <td>-0.271</td>\n",
       "      <td>0.0</td>\n",
       "      <td>...</td>\n",
       "      <td>-1.0</td>\n",
       "      <td>-1.000</td>\n",
       "      <td>0.002</td>\n",
       "      <td>-0.049</td>\n",
       "      <td>-1.000</td>\n",
       "      <td>-1.000</td>\n",
       "      <td>-1.0</td>\n",
       "      <td>-1.0</td>\n",
       "      <td>-1.0</td>\n",
       "      <td>-1.0</td>\n",
       "    </tr>\n",
       "    <tr>\n",
       "      <th>1</th>\n",
       "      <td>6</td>\n",
       "      <td>-1.000</td>\n",
       "      <td>-1.000</td>\n",
       "      <td>-1.0</td>\n",
       "      <td>-1.0</td>\n",
       "      <td>-1.0</td>\n",
       "      <td>-1.0</td>\n",
       "      <td>-1.000</td>\n",
       "      <td>-1.000</td>\n",
       "      <td>0.0</td>\n",
       "      <td>...</td>\n",
       "      <td>0.0</td>\n",
       "      <td>-0.197</td>\n",
       "      <td>-1.000</td>\n",
       "      <td>-1.000</td>\n",
       "      <td>-1.000</td>\n",
       "      <td>-1.000</td>\n",
       "      <td>-1.0</td>\n",
       "      <td>-1.0</td>\n",
       "      <td>-1.0</td>\n",
       "      <td>-1.0</td>\n",
       "    </tr>\n",
       "    <tr>\n",
       "      <th>2</th>\n",
       "      <td>7</td>\n",
       "      <td>0.011</td>\n",
       "      <td>-0.223</td>\n",
       "      <td>-1.0</td>\n",
       "      <td>-1.0</td>\n",
       "      <td>-1.0</td>\n",
       "      <td>-1.0</td>\n",
       "      <td>0.057</td>\n",
       "      <td>-0.079</td>\n",
       "      <td>0.0</td>\n",
       "      <td>...</td>\n",
       "      <td>-1.0</td>\n",
       "      <td>-1.000</td>\n",
       "      <td>-1.000</td>\n",
       "      <td>-1.000</td>\n",
       "      <td>-1.000</td>\n",
       "      <td>-1.000</td>\n",
       "      <td>-1.0</td>\n",
       "      <td>-1.0</td>\n",
       "      <td>-1.0</td>\n",
       "      <td>-1.0</td>\n",
       "    </tr>\n",
       "    <tr>\n",
       "      <th>3</th>\n",
       "      <td>9</td>\n",
       "      <td>0.120</td>\n",
       "      <td>-0.231</td>\n",
       "      <td>-1.0</td>\n",
       "      <td>-1.0</td>\n",
       "      <td>-1.0</td>\n",
       "      <td>-1.0</td>\n",
       "      <td>0.147</td>\n",
       "      <td>-0.007</td>\n",
       "      <td>0.0</td>\n",
       "      <td>...</td>\n",
       "      <td>-1.0</td>\n",
       "      <td>-1.000</td>\n",
       "      <td>-1.000</td>\n",
       "      <td>-1.000</td>\n",
       "      <td>0.000</td>\n",
       "      <td>-0.192</td>\n",
       "      <td>-1.0</td>\n",
       "      <td>-1.0</td>\n",
       "      <td>-1.0</td>\n",
       "      <td>-1.0</td>\n",
       "    </tr>\n",
       "    <tr>\n",
       "      <th>4</th>\n",
       "      <td>11</td>\n",
       "      <td>-1.000</td>\n",
       "      <td>-1.000</td>\n",
       "      <td>-1.0</td>\n",
       "      <td>-1.0</td>\n",
       "      <td>-1.0</td>\n",
       "      <td>-1.0</td>\n",
       "      <td>-0.012</td>\n",
       "      <td>-0.046</td>\n",
       "      <td>0.0</td>\n",
       "      <td>...</td>\n",
       "      <td>-1.0</td>\n",
       "      <td>-1.000</td>\n",
       "      <td>-1.000</td>\n",
       "      <td>-1.000</td>\n",
       "      <td>0.083</td>\n",
       "      <td>-0.092</td>\n",
       "      <td>-1.0</td>\n",
       "      <td>-1.0</td>\n",
       "      <td>-1.0</td>\n",
       "      <td>-1.0</td>\n",
       "    </tr>\n",
       "  </tbody>\n",
       "</table>\n",
       "<p>5 rows × 101 columns</p>\n",
       "</div>"
      ],
      "text/plain": [
       "   Id  S2_max  S2_min  S19_max  S19_min  S17_max  S17_min  S1_max  S1_min  \\\n",
       "0   4   0.010  -0.223     -1.0     -1.0     -1.0     -1.0   0.167  -0.271   \n",
       "1   6  -1.000  -1.000     -1.0     -1.0     -1.0     -1.0  -1.000  -1.000   \n",
       "2   7   0.011  -0.223     -1.0     -1.0     -1.0     -1.0   0.057  -0.079   \n",
       "3   9   0.120  -0.231     -1.0     -1.0     -1.0     -1.0   0.147  -0.007   \n",
       "4  11  -1.000  -1.000     -1.0     -1.0     -1.0     -1.0  -0.012  -0.046   \n",
       "\n",
       "   S34_max   ...    S20_max  S20_min  S31_max  S31_min  S36_max  S36_min  \\\n",
       "0      0.0   ...       -1.0   -1.000    0.002   -0.049   -1.000   -1.000   \n",
       "1      0.0   ...        0.0   -0.197   -1.000   -1.000   -1.000   -1.000   \n",
       "2      0.0   ...       -1.0   -1.000   -1.000   -1.000   -1.000   -1.000   \n",
       "3      0.0   ...       -1.0   -1.000   -1.000   -1.000    0.000   -0.192   \n",
       "4      0.0   ...       -1.0   -1.000   -1.000   -1.000    0.083   -0.092   \n",
       "\n",
       "   S51_max  S51_min  S9_max  S9_min  \n",
       "0     -1.0     -1.0    -1.0    -1.0  \n",
       "1     -1.0     -1.0    -1.0    -1.0  \n",
       "2     -1.0     -1.0    -1.0    -1.0  \n",
       "3     -1.0     -1.0    -1.0    -1.0  \n",
       "4     -1.0     -1.0    -1.0    -1.0  \n",
       "\n",
       "[5 rows x 101 columns]"
      ]
     },
     "execution_count": 16,
     "metadata": {},
     "output_type": "execute_result"
    }
   ],
   "source": [
    "new_df_numerical.head()"
   ]
  },
  {
   "cell_type": "markdown",
   "metadata": {},
   "source": [
    "Next, we output our modified numeric features to a s3 bucket."
   ]
  },
  {
   "cell_type": "code",
   "execution_count": 18,
   "metadata": {},
   "outputs": [],
   "source": [
    "new_df_numerical.to_csv('s3://jiaruxu233/new_train_numerical.csv')"
   ]
  },
  {
   "cell_type": "markdown",
   "metadata": {},
   "source": [
    "## Categorical Feature Engineering"
   ]
  },
  {
   "cell_type": "markdown",
   "metadata": {},
   "source": [
    "Through previous exploration, we notice that categorical features are the most missing one among our three types of features. Besides, many features only have one unique value in whole column which do not provide much help to our model. Therefore, we decide to pick features with most variety."
   ]
  },
  {
   "cell_type": "code",
   "execution_count": 66,
   "metadata": {},
   "outputs": [],
   "source": [
    "cat = spark.read\\\n",
    "  .option('header', 'true')\\\n",
    "  .option('inferSchema', 'true')\\\n",
    "  .format('csv')\\\n",
    "  .load('s3://jiaruxu233/train_categorical.csv')"
   ]
  },
  {
   "cell_type": "code",
   "execution_count": 67,
   "metadata": {},
   "outputs": [],
   "source": [
    "dfcat = cat.createOrReplaceTempView(\"dfcat\")"
   ]
  },
  {
   "cell_type": "code",
   "execution_count": 1,
   "metadata": {},
   "outputs": [],
   "source": [
    "# spark.sql('SELECT * FROM dfcat LIMIT 5').show()"
   ]
  },
  {
   "cell_type": "code",
   "execution_count": 73,
   "metadata": {},
   "outputs": [],
   "source": [
    "cat_pd = pd.DataFrame(cat.head(10000),columns=cat.columns)"
   ]
  },
  {
   "cell_type": "code",
   "execution_count": 82,
   "metadata": {},
   "outputs": [
    {
     "name": "stdout",
     "output_type": "stream",
     "text": [
      "Id=10000\n",
      "L1_S24_F1114=4\n",
      "L1_S24_F1137=4\n",
      "L1_S24_F1140=4\n",
      "L1_S24_F1510=5\n",
      "L1_S24_F1525=5\n",
      "L1_S24_F1530=5\n",
      "L1_S25_F1852=5\n",
      "L1_S25_F2779=5\n",
      "L3_S32_F3854=14\n"
     ]
    }
   ],
   "source": [
    "for k, v in cat_pd.nunique().to_dict().items():\n",
    "    if v > 3:\n",
    "        print('{}={}'.format(k,v))"
   ]
  },
  {
   "cell_type": "code",
   "execution_count": 83,
   "metadata": {},
   "outputs": [],
   "source": [
    "cat_columns = ['L1_S24_F1114','L1_S24_F1137','L1_S24_F1140','L1_S24_F1510','L1_S24_F1525','L1_S24_F1530','L1_S25_F1852','L1_S25_F2779','L3_S32_F3854']"
   ]
  },
  {
   "cell_type": "code",
   "execution_count": 84,
   "metadata": {},
   "outputs": [
    {
     "name": "stderr",
     "output_type": "stream",
     "text": [
      "/anaconda3/lib/python3.6/site-packages/IPython/core/interactiveshell.py:3020: DtypeWarning: Columns (576,588,590,807,811,815,984,1429,1987) have mixed types. Specify dtype option on import or set low_memory=False.\n",
      "  interactivity=interactivity, compiler=compiler, result=result)\n"
     ]
    }
   ],
   "source": [
    "cat_df = pd.read_csv('s3://jiaruxu233/train_categorical.csv',usecols=cat_columns) "
   ]
  },
  {
   "cell_type": "code",
   "execution_count": 85,
   "metadata": {},
   "outputs": [],
   "source": [
    "cat_df.to_csv('s3://jiaruxu233/new_train_cat.csv')"
   ]
  },
  {
   "cell_type": "markdown",
   "metadata": {},
   "source": [
    "## Date Feature Engineering"
   ]
  },
  {
   "cell_type": "markdown",
   "metadata": {},
   "source": [
    "For Date features, we pick up those unique columns as we previously discovered in Step 1."
   ]
  },
  {
   "cell_type": "code",
   "execution_count": 61,
   "metadata": {},
   "outputs": [],
   "source": [
    "date_columns = ['L3_S37_D3949', 'L3_S30_D3541', 'L3_S29_D3428', 'L3_S34_D3877', 'L3_S33_D3870', 'L0_S0_D3', 'L0_S1_D30', 'L0_S8_D145', 'L3_S36_D3919', 'L3_S35_D3910', 'L0_S5_D115', 'L0_S3_D70', 'L0_S6_D120', 'L0_S7_D143', 'L0_S2_D54', 'L0_S4_D106', 'L0_S12_D333', 'L0_S20_D465', 'L0_S13_D355', 'L0_S10_D266', 'L0_S11_D284', 'L0_S9_D192', 'L2_S26_D3084', 'L1_S24_D1828', 'L0_S19_D457', 'L0_S17_D432', 'L0_S14_D380', 'L0_S15_D401', 'L0_S16_D428', 'L2_S27_D3156', 'L0_S18_D447', 'L0_S21_D469', 'L0_S23_D629', 'L0_S22_D608', 'L3_S41_D4021', 'L3_S40_D3981', 'L3_S45_D4129', 'L3_S48_D4203', 'L3_S47_D4155', 'L3_S39_D3974', 'L3_S51_D4255', 'L1_S25_D1887', 'L3_S31_D3848', 'L3_S43_D4097', 'L3_S49_D4208', 'L3_S50_D4254', 'L3_S44_D4122', 'L3_S38_D3953', 'L3_S32_D3852', 'L2_S28_D3234', 'L3_S46_D4135', 'L3_S42_D4057']"
   ]
  },
  {
   "cell_type": "code",
   "execution_count": 63,
   "metadata": {},
   "outputs": [],
   "source": [
    "date_df = pd.read_csv('s3://jiaruxu233/train_date.csv',usecols=date_columns) "
   ]
  },
  {
   "cell_type": "code",
   "execution_count": 58,
   "metadata": {},
   "outputs": [],
   "source": [
    "# date_pd = pd.DataFrame(new_date.head(10000),columns=new_date.columns)\n",
    "\n",
    "# date = spark.read\\\n",
    "#   .option('header', 'true')\\\n",
    "#   .option('inferSchema', 'true')\\\n",
    "#   .format('csv')\\\n",
    "#   .load('train_date.csv')"
   ]
  },
  {
   "cell_type": "code",
   "execution_count": 65,
   "metadata": {},
   "outputs": [],
   "source": [
    "date_df.to_csv('s3://jiaruxu233/new_train_date.csv')"
   ]
  },
  {
   "cell_type": "code",
   "execution_count": 86,
   "metadata": {},
   "outputs": [],
   "source": [
    "spark.stop()"
   ]
  },
  {
   "cell_type": "markdown",
   "metadata": {},
   "source": [
    "# Method 2: Select From Model"
   ]
  },
  {
   "cell_type": "markdown",
   "metadata": {},
   "source": [
    "## Dealing with imbalanced data "
   ]
  },
  {
   "cell_type": "code",
   "execution_count": 10,
   "metadata": {},
   "outputs": [],
   "source": [
    "# Load train_numeric\n",
    "train_num =spark.read.csv('s3://jiaruxu233/train_numeric.csv', header = True, inferSchema = True)"
   ]
  },
  {
   "cell_type": "code",
   "execution_count": 11,
   "metadata": {},
   "outputs": [],
   "source": [
    "# Load train_categorical\n",
    "train_cat = spark.read.csv('s3://jiaruxu233/train_categorical.csv', header = True, inferSchema = True)"
   ]
  },
  {
   "cell_type": "code",
   "execution_count": 12,
   "metadata": {},
   "outputs": [],
   "source": [
    "# Load train_date\n",
    "train_date = spark.read.csv('s3://jiaruxu233/train_date.csv', header = True, inferSchema = True)"
   ]
  },
  {
   "cell_type": "code",
   "execution_count": 13,
   "metadata": {},
   "outputs": [],
   "source": [
    "### Subset train_date set\n",
    "date_columns = ['Id','L3_S37_D3949', 'L3_S30_D3541', 'L3_S29_D3428', 'L3_S34_D3877', 'L3_S33_D3870', 'L0_S0_D3', 'L0_S1_D30', 'L0_S8_D145', 'L3_S36_D3919', 'L3_S35_D3910', 'L0_S5_D115', 'L0_S3_D70', 'L0_S6_D120', 'L0_S7_D143', 'L0_S2_D54', 'L0_S4_D106', 'L0_S12_D333', 'L0_S20_D465', 'L0_S13_D355', 'L0_S10_D266', 'L0_S11_D284', 'L0_S9_D192', 'L2_S26_D3084', 'L1_S24_D1828', 'L0_S19_D457', 'L0_S17_D432', 'L0_S14_D380', 'L0_S15_D401', 'L0_S16_D428', 'L2_S27_D3156', 'L0_S18_D447', 'L0_S21_D469', 'L0_S23_D629', 'L0_S22_D608', 'L3_S41_D4021', 'L3_S40_D3981', 'L3_S45_D4129', 'L3_S48_D4203', 'L3_S47_D4155', 'L3_S39_D3974', 'L3_S51_D4255', 'L1_S25_D1887', 'L3_S31_D3848', 'L3_S43_D4097', 'L3_S49_D4208', 'L3_S50_D4254', 'L3_S44_D4122', 'L3_S38_D3953', 'L3_S32_D3852', 'L2_S28_D3234', 'L3_S46_D4135', 'L3_S42_D4057']\n",
    "new_date = train_date.select(date_columns)"
   ]
  },
  {
   "cell_type": "code",
   "execution_count": 14,
   "metadata": {},
   "outputs": [],
   "source": [
    "### Because we have to treat different type of data respectively.\n",
    "cat_withlabel = train_num.select(\"Id\",\"Response\").join(train_cat, \"Id\")\n",
    "date_withlabel = train_num.select(\"Id\",\"Response\").join(new_date, \"Id\")"
   ]
  },
  {
   "cell_type": "code",
   "execution_count": 15,
   "metadata": {},
   "outputs": [],
   "source": [
    "a = train_num.filter(train_num.Response == 1)\n",
    "b = cat_withlabel.filter(cat_withlabel.Response == 1)\n",
    "c = date_withlabel.filter(date_withlabel.Response == 1)"
   ]
  },
  {
   "cell_type": "code",
   "execution_count": 16,
   "metadata": {},
   "outputs": [
    {
     "data": {
      "text/plain": [
       "6879"
      ]
     },
     "execution_count": 16,
     "metadata": {},
     "output_type": "execute_result"
    }
   ],
   "source": [
    "a.count() # Calculate the number of all the broken parts"
   ]
  },
  {
   "cell_type": "code",
   "execution_count": 17,
   "metadata": {},
   "outputs": [],
   "source": [
    "# Randomly extract same amount of data from the rest of the set\n",
    "a1 = train_num.filter(train_num.Response == 0).sample(0.03, seed = 1234)"
   ]
  },
  {
   "cell_type": "code",
   "execution_count": 18,
   "metadata": {},
   "outputs": [],
   "source": [
    "# Exact other features for those records being randomly chose in a1\n",
    "b1 = a1.select('Id').join(cat_withlabel, \"Id\")\n",
    "c1 = a1.select('Id').join(date_withlabel, \"Id\")"
   ]
  },
  {
   "cell_type": "code",
   "execution_count": 19,
   "metadata": {},
   "outputs": [],
   "source": [
    "num = a1.count()"
   ]
  },
  {
   "cell_type": "markdown",
   "metadata": {},
   "source": [
    "Now we have 6 dataset in total, 3 for each type of features for each class of label `Response`, and we make each class has the approximately same size."
   ]
  },
  {
   "cell_type": "markdown",
   "metadata": {},
   "source": [
    "### Feature selection using XGboost"
   ]
  },
  {
   "cell_type": "code",
   "execution_count": 22,
   "metadata": {},
   "outputs": [],
   "source": [
    "import pandas as pd\n",
    "import xgboost as xgb\n",
    "from xgboost import XGBClassifier"
   ]
  },
  {
   "cell_type": "code",
   "execution_count": 23,
   "metadata": {},
   "outputs": [],
   "source": [
    "a_pd = pd.DataFrame(a.head(6879), columns = a.columns)\n",
    "b_pd = pd.DataFrame(b.head(6879), columns = b.columns)\n",
    "c_pd = pd.DataFrame(c.head(6879), columns = c.columns)"
   ]
  },
  {
   "cell_type": "code",
   "execution_count": 24,
   "metadata": {},
   "outputs": [],
   "source": [
    "a1_pd = pd.DataFrame(a1.head(num), columns = a1.columns)\n",
    "b1_pd = pd.DataFrame(b1.head(num), columns = b1.columns)\n",
    "c1_pd = pd.DataFrame(c1.head(num), columns = c1.columns)"
   ]
  },
  {
   "cell_type": "code",
   "execution_count": 25,
   "metadata": {},
   "outputs": [],
   "source": [
    "# encode string input values as float\n",
    "b_pd_encoded = pd.get_dummies(b_pd,dtype=float)\n",
    "b1_pd_encoded = pd.get_dummies(b1_pd,dtype=float)"
   ]
  },
  {
   "cell_type": "code",
   "execution_count": 26,
   "metadata": {},
   "outputs": [],
   "source": [
    "# Join the datasets on Id\n",
    "r0 = a_pd.merge(b_pd_encoded,on=['Id','Response']).merge(c_pd,on=['Id','Response']).dropna(how='all', axis=1)\n",
    "r1 = a1_pd.merge(b1_pd_encoded,on=['Id','Response']).merge(c1_pd, on=['Id','Response']).dropna(how='all', axis=1)"
   ]
  },
  {
   "cell_type": "code",
   "execution_count": 27,
   "metadata": {},
   "outputs": [],
   "source": [
    "# Concat the dataset and shuffling\n",
    "pre = pd.concat([r0, r1], sort = False).sample(frac=1).reset_index(drop=True)"
   ]
  },
  {
   "cell_type": "code",
   "execution_count": 28,
   "metadata": {},
   "outputs": [],
   "source": [
    "X = pre.drop(['Response', 'Id'],axis=1)\n",
    "y = pre['Response']"
   ]
  },
  {
   "cell_type": "code",
   "execution_count": 29,
   "metadata": {},
   "outputs": [
    {
     "data": {
      "text/plain": [
       "XGBClassifier(base_score=0.5, booster='gbtree', colsample_bylevel=0.5,\n",
       "              colsample_bynode=0.5, colsample_bytree=0.2, gamma=0,\n",
       "              learning_rate=0.1, max_delta_step=0, max_depth=8,\n",
       "              min_child_weight=1, missing=None, n_estimators=3000, n_jobs=1,\n",
       "              nthread=None, objective='binary:logistic', random_state=0,\n",
       "              reg_alpha=0, reg_lambda=1, scale_pos_weight=1, seed=None,\n",
       "              silent=None, subsample=1, verbosity=1)"
      ]
     },
     "execution_count": 29,
     "metadata": {},
     "output_type": "execute_result"
    }
   ],
   "source": [
    "model = XGBClassifier(n_estimators = 3000, max_depth = 8, colsample_bytree = 0.2, colsample_bylevel=0.5, colsample_bynode=0.5)\n",
    "model.fit(X,  y)"
   ]
  },
  {
   "cell_type": "code",
   "execution_count": 30,
   "metadata": {},
   "outputs": [],
   "source": [
    "important_features = model.get_booster().get_score(importance_type='gain')"
   ]
  },
  {
   "cell_type": "code",
   "execution_count": 31,
   "metadata": {},
   "outputs": [
    {
     "data": {
      "text/plain": [
       "<matplotlib.axes._subplots.AxesSubplot at 0x7f50846e6630>"
      ]
     },
     "execution_count": 31,
     "metadata": {},
     "output_type": "execute_result"
    },
    {
     "data": {
      "image/png": "[encoded data removed]",
      "text/plain": [
       "<Figure size 432x288 with 1 Axes>"
      ]
     },
     "metadata": {
      "needs_background": "light"
     },
     "output_type": "display_data"
    }
   ],
   "source": [
    "from xgboost import plot_importance\n",
    "# plot feature importance\n",
    "plot_importance(model,\n",
    "                importance_type='gain'\n",
    "                #max_num_features=30\n",
    "               )"
   ]
  },
  {
   "cell_type": "code",
   "execution_count": 32,
   "metadata": {},
   "outputs": [
    {
     "name": "stdout",
     "output_type": "stream",
     "text": [
      "L1_S24_F1073_T1: 6009.4801532500005\n",
      "L1_S24_F848_T1372: 5855.558595567501\n",
      "L1_S24_F838_T1372: 4963.943925\n",
      "L1_S24_F845_T1: 4260.8080921\n",
      "L1_S24_F853_T1: 3810.6141601\n",
      "L1_S24_F828_T1372: 3180.6981966440003\n",
      "L1_S24_F1069_T1: 2892.5560675\n",
      "L1_S24_F1082_T-2147483648: 2802.04834\n",
      "L1_S24_F820_T1372: 2651.9608207000006\n",
      "L1_S24_F835_T1: 2165.0434513200003\n",
      "L1_S24_F817_T1: 2047.9342912325\n",
      "L1_S24_F840_T1: 1589.2373503666665\n",
      "L1_S24_F1095_T1: 1307.89233\n",
      "L1_S24_F825_T1: 1303.0469875471426\n",
      "L1_S24_F833_T1372: 1203.8086034066666\n",
      "L1_S24_F1216_T1372: 1176.8833\n",
      "L1_S24_F896_T1372: 1059.61145\n",
      "L1_S24_F1080_T1: 909.43516355\n",
      "L1_S24_F824_T1372: 878.8151384640001\n",
      "L1_S24_F858_T1: 631.237976\n",
      "L1_S24_F1244_T1372: 464.51593\n",
      "L1_S24_F1061_T1: 379.096893\n",
      "L1_S24_F1084_T1: 309.644226\n",
      "L1_S24_F888_T1: 207.016785\n",
      "L1_S24_F881_T1372: 200.09527611000001\n",
      "L1_S24_F821_T1: 160.60348918500003\n",
      "L1_S24_F898_T1: 153.310608\n",
      "L1_S24_F852_T1372: 136.36881655\n",
      "L1_S24_F830_T1: 135.6558302\n",
      "L1_S24_F861_T1372: 66.95891435\n",
      "L1_S24_F1065_T1: 56.9061279\n",
      "L1_S24_F873_T1: 38.53700209\n",
      "L1_S24_F903_T1: 21.5969219\n",
      "L1_S24_F886_T1372: 18.736562005\n",
      "L1_S24_F863_T1: 14.8028612\n",
      "L1_S24_F878_T1: 13.262577425\n",
      "L1_S24_F1249_T1372: 8.52264214\n",
      "L1_S24_F876_T1372: 7.12153101\n",
      "L1_S24_F866_T1372: 6.02030007\n",
      "L1_S24_F868_T1: 1.22249651\n",
      "L3_S30_D3541: 0.0125523284\n",
      "L3_S29_F3449: 0.00970009715\n",
      "L3_S29_F3412: 0.009332345775\n",
      "L3_S29_F3407: 0.00891385972\n",
      "L3_S29_F3351: 0.00860673003\n",
      "L3_S33_D3870: 0.00608904278\n",
      "L3_S29_F3455: 0.005697170975\n",
      "L3_S34_D3877: 0.0054823081\n",
      "L3_S33_F3857: 0.004989256304666667\n",
      "L3_S29_F3339: 0.00438989559\n",
      "L3_S37_D3949: 0.00426219706\n",
      "L3_S29_F3464: 0.00401780941\n",
      "L3_S29_F3467: 0.00393223588\n",
      "L3_S30_F3759: 0.002719983575\n",
      "L3_S33_F3865: 0.00220476836\n",
      "L3_S29_F3479: 0.00132474536\n",
      "L3_S30_F3769: 0.00106173567\n",
      "L0_S0_F20: 0.000193888322\n",
      "L0_S0_F22: 0.000159005634\n"
     ]
    }
   ],
   "source": [
    "for key, value in sorted(important_features.items(), key=lambda item: item[1],reverse=True):\n",
    "    print(\"%s: %s\" % (key, value))"
   ]
  },
  {
   "cell_type": "code",
   "execution_count": 33,
   "metadata": {},
   "outputs": [],
   "source": [
    "imp = list(important_features.keys())"
   ]
  },
  {
   "cell_type": "code",
   "execution_count": 36,
   "metadata": {},
   "outputs": [],
   "source": [
    "import re\n",
    "feature = []\n",
    "pattern = re.compile(\"L\\d_S\\d+_F\\d+\")\n",
    "for x in imp:\n",
    "    i = pattern.findall(x)\n",
    "    feature.append(*i)"
   ]
  },
  {
   "cell_type": "code",
   "execution_count": 37,
   "metadata": {},
   "outputs": [],
   "source": [
    "c_feature = ['L1_S24_F1078',\n",
    " 'L1_S24_F833',\n",
    " 'L0_S2_F63',\n",
    " 'L0_S2_F67',\n",
    " 'L1_S24_F866',\n",
    " 'L1_S24_F838',\n",
    " 'L1_S24_F849',\n",
    " 'L1_S24_F824',\n",
    " 'L1_S24_F873',\n",
    " 'L1_S24_F817',\n",
    " 'L1_S24_F825',\n",
    " 'L1_S24_F871',\n",
    " 'L1_S24_F1095',\n",
    " 'L1_S24_F845',\n",
    " 'L1_S24_F856',\n",
    " 'L0_S2_F35',\n",
    " 'L1_S24_F828',\n",
    " 'L0_S2_F43',\n",
    " 'L0_S2_F47',\n",
    " 'L0_S2_F39',\n",
    " 'L1_S24_F868',\n",
    " 'L0_S2_F51',\n",
    " 'L1_S24_F1061',\n",
    " 'L1_S24_F861',\n",
    " 'L1_S24_F1105',\n",
    " 'L1_S24_F1069',\n",
    " 'L1_S24_F830',\n",
    " 'L1_S24_F863',\n",
    " 'L1_S24_F898',\n",
    " 'L1_S24_F1082',\n",
    " 'L1_S24_F820',\n",
    " 'L1_S24_F1097',\n",
    " 'L1_S24_F835',\n",
    " 'L1_S24_F896',\n",
    " 'L1_S24_F821',\n",
    " 'L1_S24_F1608',\n",
    " 'L0_S2_F55',\n",
    " 'L1_S24_F852',\n",
    " 'L1_S24_F858',\n",
    " 'L0_S10_F270']\n",
    "\n",
    "d_feature = ['L3_S37_D3949','L3_S30_D3541','L3_S34_D3877','L3_S33_D3870']\n",
    "n_feature = ['L3_S33_F3865',\n",
    " 'L3_S33_F3857',\n",
    " 'L3_S29_F3342',\n",
    " 'L3_S29_F3412',\n",
    " 'L3_S29_F3351',\n",
    " 'L3_S29_F3470',\n",
    " 'L3_S29_F3339',\n",
    " 'L3_S29_F3479',\n",
    " 'L3_S29_F3458',\n",
    " 'L0_S0_F0',\n",
    " 'L3_S29_F3455',\n",
    " 'L3_S29_F3449',\n",
    " 'L3_S29_F3327',\n",
    " 'L3_S29_F3407',\n",
    " 'L3_S30_F3754',\n",
    " 'L3_S30_F3759']"
   ]
  },
  {
   "cell_type": "markdown",
   "metadata": {},
   "source": [
    "Here is a list of features that we picked from model. Next we are going to throw those features into our model and make further and final predictions."
   ]
  }
 ],
 "metadata": {
  "kernelspec": {
   "display_name": "Python 3",
   "language": "python",
   "name": "python3"
  },
  "language_info": {
   "codemirror_mode": {
    "name": "ipython",
    "version": 3
   },
   "file_extension": ".py",
   "mimetype": "text/x-python",
   "name": "python",
   "nbconvert_exporter": "python",
   "pygments_lexer": "ipython3",
   "version": "3.6.8"
  },
  "toc": {
   "base_numbering": 1,
   "nav_menu": {},
   "number_sections": true,
   "sideBar": true,
   "skip_h1_title": false,
   "title_cell": "Table of Contents",
   "title_sidebar": "Contents",
   "toc_cell": false,
   "toc_position": {},
   "toc_section_display": true,
   "toc_window_display": false
  }
 },
 "nbformat": 4,
 "nbformat_minor": 4
}
